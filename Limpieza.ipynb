{
 "cells": [
  {
   "cell_type": "code",
   "execution_count": 1,
   "metadata": {
    "tags": []
   },
   "outputs": [],
   "source": [
    "import pandas as pd "
   ]
  },
  {
   "cell_type": "code",
   "execution_count": 3,
   "metadata": {
    "tags": []
   },
   "outputs": [],
   "source": [
    "df = pd.read_csv('./Incremental/Toconcatenate.csv')"
   ]
  },
  {
   "cell_type": "code",
   "execution_count": 4,
   "metadata": {},
   "outputs": [
    {
     "data": {
      "text/html": [
       "<div>\n",
       "<style scoped>\n",
       "    .dataframe tbody tr th:only-of-type {\n",
       "        vertical-align: middle;\n",
       "    }\n",
       "\n",
       "    .dataframe tbody tr th {\n",
       "        vertical-align: top;\n",
       "    }\n",
       "\n",
       "    .dataframe thead th {\n",
       "        text-align: right;\n",
       "    }\n",
       "</style>\n",
       "<table border=\"1\" class=\"dataframe\">\n",
       "  <thead>\n",
       "    <tr style=\"text-align: right;\">\n",
       "      <th></th>\n",
       "      <th>0</th>\n",
       "      <th>2022-12-07T13:09:00.330Z</th>\n",
       "      <th>19.4804992675781</th>\n",
       "      <th>-155.572174072266</th>\n",
       "      <th>-2.09999990463257</th>\n",
       "      <th>1.73000002</th>\n",
       "      <th>md</th>\n",
       "      <th>8.0</th>\n",
       "      <th>172.0</th>\n",
       "      <th>Unnamed: 9</th>\n",
       "      <th>...</th>\n",
       "      <th>2022-12-07T13:12:01.180Z</th>\n",
       "      <th>30 km E of Honaunau-Napoopoo, Hawaii</th>\n",
       "      <th>earthquake</th>\n",
       "      <th>1.14</th>\n",
       "      <th>0.959999979</th>\n",
       "      <th>0.180000007</th>\n",
       "      <th>5.0</th>\n",
       "      <th>automatic</th>\n",
       "      <th>hv.1</th>\n",
       "      <th>hv.2</th>\n",
       "    </tr>\n",
       "  </thead>\n",
       "  <tbody>\n",
       "    <tr>\n",
       "      <th>0</th>\n",
       "      <td>1</td>\n",
       "      <td>2022-12-07T13:04:44.541Z</td>\n",
       "      <td>61.3471</td>\n",
       "      <td>-147.7464</td>\n",
       "      <td>33.9</td>\n",
       "      <td>1.0</td>\n",
       "      <td>ml</td>\n",
       "      <td>NaN</td>\n",
       "      <td>NaN</td>\n",
       "      <td>NaN</td>\n",
       "      <td>...</td>\n",
       "      <td>2022-12-07T13:07:07.370Z</td>\n",
       "      <td>51 km S of Glacier View, Alaska</td>\n",
       "      <td>earthquake</td>\n",
       "      <td>NaN</td>\n",
       "      <td>0.2</td>\n",
       "      <td>NaN</td>\n",
       "      <td>NaN</td>\n",
       "      <td>automatic</td>\n",
       "      <td>ak</td>\n",
       "      <td>ak</td>\n",
       "    </tr>\n",
       "    <tr>\n",
       "      <th>1</th>\n",
       "      <td>2</td>\n",
       "      <td>2022-12-07T12:46:16.699Z</td>\n",
       "      <td>61.6445</td>\n",
       "      <td>-146.4308</td>\n",
       "      <td>29.6</td>\n",
       "      <td>2.1</td>\n",
       "      <td>ml</td>\n",
       "      <td>NaN</td>\n",
       "      <td>NaN</td>\n",
       "      <td>NaN</td>\n",
       "      <td>...</td>\n",
       "      <td>2022-12-07T12:48:10.474Z</td>\n",
       "      <td>42 km SSE of Nelchina, Alaska</td>\n",
       "      <td>earthquake</td>\n",
       "      <td>NaN</td>\n",
       "      <td>0.4</td>\n",
       "      <td>NaN</td>\n",
       "      <td>NaN</td>\n",
       "      <td>automatic</td>\n",
       "      <td>ak</td>\n",
       "      <td>ak</td>\n",
       "    </tr>\n",
       "  </tbody>\n",
       "</table>\n",
       "<p>2 rows × 23 columns</p>\n",
       "</div>"
      ],
      "text/plain": [
       "   0  2022-12-07T13:09:00.330Z  19.4804992675781  -155.572174072266  \\\n",
       "0  1  2022-12-07T13:04:44.541Z           61.3471          -147.7464   \n",
       "1  2  2022-12-07T12:46:16.699Z           61.6445          -146.4308   \n",
       "\n",
       "   -2.09999990463257  1.73000002  md  8.0  172.0  Unnamed: 9  ...  \\\n",
       "0               33.9         1.0  ml  NaN    NaN         NaN  ...   \n",
       "1               29.6         2.1  ml  NaN    NaN         NaN  ...   \n",
       "\n",
       "   2022-12-07T13:12:01.180Z 30 km E of Honaunau-Napoopoo, Hawaii  earthquake  \\\n",
       "0  2022-12-07T13:07:07.370Z      51 km S of Glacier View, Alaska  earthquake   \n",
       "1  2022-12-07T12:48:10.474Z        42 km SSE of Nelchina, Alaska  earthquake   \n",
       "\n",
       "  1.14 0.959999979 0.180000007  5.0  automatic  hv.1  hv.2  \n",
       "0  NaN         0.2         NaN  NaN  automatic    ak    ak  \n",
       "1  NaN         0.4         NaN  NaN  automatic    ak    ak  \n",
       "\n",
       "[2 rows x 23 columns]"
      ]
     },
     "execution_count": 4,
     "metadata": {},
     "output_type": "execute_result"
    }
   ],
   "source": [
    "df.head(2)"
   ]
  },
  {
   "cell_type": "code",
   "execution_count": 5,
   "metadata": {},
   "outputs": [],
   "source": [
    "df.columns = ['fuera','time','latitude','longitude','depth','mag','magType','nst','gap','dmin','rms','net','id','updated','place','type','horizontalError','depthError','magError','magNst','status','locationSource','magSource']"
   ]
  },
  {
   "cell_type": "code",
   "execution_count": 6,
   "metadata": {},
   "outputs": [
    {
     "data": {
      "text/html": [
       "<div>\n",
       "<style scoped>\n",
       "    .dataframe tbody tr th:only-of-type {\n",
       "        vertical-align: middle;\n",
       "    }\n",
       "\n",
       "    .dataframe tbody tr th {\n",
       "        vertical-align: top;\n",
       "    }\n",
       "\n",
       "    .dataframe thead th {\n",
       "        text-align: right;\n",
       "    }\n",
       "</style>\n",
       "<table border=\"1\" class=\"dataframe\">\n",
       "  <thead>\n",
       "    <tr style=\"text-align: right;\">\n",
       "      <th></th>\n",
       "      <th>fuera</th>\n",
       "      <th>time</th>\n",
       "      <th>latitude</th>\n",
       "      <th>longitude</th>\n",
       "      <th>depth</th>\n",
       "      <th>mag</th>\n",
       "      <th>magType</th>\n",
       "      <th>nst</th>\n",
       "      <th>gap</th>\n",
       "      <th>dmin</th>\n",
       "      <th>rms</th>\n",
       "      <th>net</th>\n",
       "      <th>id</th>\n",
       "      <th>updated</th>\n",
       "      <th>place</th>\n",
       "      <th>type</th>\n",
       "      <th>horizontalError</th>\n",
       "      <th>depthError</th>\n",
       "      <th>magError</th>\n",
       "      <th>magNst</th>\n",
       "      <th>status</th>\n",
       "      <th>locationSource</th>\n",
       "      <th>magSource</th>\n",
       "    </tr>\n",
       "  </thead>\n",
       "  <tbody>\n",
       "    <tr>\n",
       "      <th>0</th>\n",
       "      <td>1</td>\n",
       "      <td>2022-12-07T13:04:44.541Z</td>\n",
       "      <td>61.3471</td>\n",
       "      <td>-147.7464</td>\n",
       "      <td>33.9</td>\n",
       "      <td>1.0</td>\n",
       "      <td>ml</td>\n",
       "      <td>NaN</td>\n",
       "      <td>NaN</td>\n",
       "      <td>NaN</td>\n",
       "      <td>0.13</td>\n",
       "      <td>ak</td>\n",
       "      <td>ak022fo60xk6</td>\n",
       "      <td>2022-12-07T13:07:07.370Z</td>\n",
       "      <td>51 km S of Glacier View, Alaska</td>\n",
       "      <td>earthquake</td>\n",
       "      <td>NaN</td>\n",
       "      <td>0.2</td>\n",
       "      <td>NaN</td>\n",
       "      <td>NaN</td>\n",
       "      <td>automatic</td>\n",
       "      <td>ak</td>\n",
       "      <td>ak</td>\n",
       "    </tr>\n",
       "    <tr>\n",
       "      <th>1</th>\n",
       "      <td>2</td>\n",
       "      <td>2022-12-07T12:46:16.699Z</td>\n",
       "      <td>61.6445</td>\n",
       "      <td>-146.4308</td>\n",
       "      <td>29.6</td>\n",
       "      <td>2.1</td>\n",
       "      <td>ml</td>\n",
       "      <td>NaN</td>\n",
       "      <td>NaN</td>\n",
       "      <td>NaN</td>\n",
       "      <td>0.55</td>\n",
       "      <td>ak</td>\n",
       "      <td>ak022fo5ofvp</td>\n",
       "      <td>2022-12-07T12:48:10.474Z</td>\n",
       "      <td>42 km SSE of Nelchina, Alaska</td>\n",
       "      <td>earthquake</td>\n",
       "      <td>NaN</td>\n",
       "      <td>0.4</td>\n",
       "      <td>NaN</td>\n",
       "      <td>NaN</td>\n",
       "      <td>automatic</td>\n",
       "      <td>ak</td>\n",
       "      <td>ak</td>\n",
       "    </tr>\n",
       "  </tbody>\n",
       "</table>\n",
       "</div>"
      ],
      "text/plain": [
       "   fuera                      time  ...  locationSource  magSource\n",
       "0      1  2022-12-07T13:04:44.541Z  ...              ak         ak\n",
       "1      2  2022-12-07T12:46:16.699Z  ...              ak         ak\n",
       "\n",
       "[2 rows x 23 columns]"
      ]
     },
     "execution_count": 6,
     "metadata": {},
     "output_type": "execute_result"
    }
   ],
   "source": [
    "pd.options.display.max_columns = 0\n",
    "df.head(2)"
   ]
  },
  {
   "cell_type": "code",
   "execution_count": 7,
   "metadata": {},
   "outputs": [],
   "source": [
    "fila = {'fuera' : '0', 'time' : '1950-01-30T01:34:11.520Z', 'latitude' : '33.6956667', 'longitude' : '-118.3898333',\n",
    "       'depth' : '6.0', 'mag' : '2.41', 'magType' : 'ml', 'nst' : '5.0', 'gap' : '277.0', 'dmin' : '0.4868',\n",
    "       'rms' : '0.38', 'net' : 'ci', 'id' : 'ci3362482', 'updated' : '2016-01-28T17:58:15.530Z',\n",
    "       'place' : '5km S of Rancho Palos Verdes, CA', 'type' : 'earthquake', 'horizontalError' : '1.9', 'depthError' : '31.61',\n",
    "       'magError' : '0.146','magNst' : '6.0.1','status' : 'reviewed','locationSource' : 'ci.1', 'magSource' : 'ci.2'}"
   ]
  },
  {
   "cell_type": "code",
   "execution_count": 8,
   "metadata": {},
   "outputs": [],
   "source": [
    "df = df.append(fila, ignore_index = True)"
   ]
  },
  {
   "cell_type": "code",
   "execution_count": 9,
   "metadata": {},
   "outputs": [
    {
     "data": {
      "text/html": [
       "<div>\n",
       "<style scoped>\n",
       "    .dataframe tbody tr th:only-of-type {\n",
       "        vertical-align: middle;\n",
       "    }\n",
       "\n",
       "    .dataframe tbody tr th {\n",
       "        vertical-align: top;\n",
       "    }\n",
       "\n",
       "    .dataframe thead th {\n",
       "        text-align: right;\n",
       "    }\n",
       "</style>\n",
       "<table border=\"1\" class=\"dataframe\">\n",
       "  <thead>\n",
       "    <tr style=\"text-align: right;\">\n",
       "      <th></th>\n",
       "      <th>fuera</th>\n",
       "      <th>time</th>\n",
       "      <th>latitude</th>\n",
       "      <th>longitude</th>\n",
       "      <th>depth</th>\n",
       "      <th>mag</th>\n",
       "      <th>magType</th>\n",
       "      <th>nst</th>\n",
       "      <th>gap</th>\n",
       "      <th>dmin</th>\n",
       "      <th>rms</th>\n",
       "      <th>net</th>\n",
       "      <th>id</th>\n",
       "      <th>updated</th>\n",
       "      <th>place</th>\n",
       "      <th>type</th>\n",
       "      <th>horizontalError</th>\n",
       "      <th>depthError</th>\n",
       "      <th>magError</th>\n",
       "      <th>magNst</th>\n",
       "      <th>status</th>\n",
       "      <th>locationSource</th>\n",
       "      <th>magSource</th>\n",
       "    </tr>\n",
       "  </thead>\n",
       "  <tbody>\n",
       "    <tr>\n",
       "      <th>0</th>\n",
       "      <td>1</td>\n",
       "      <td>2022-12-07T13:04:44.541Z</td>\n",
       "      <td>61.3471</td>\n",
       "      <td>-147.7464</td>\n",
       "      <td>33.9</td>\n",
       "      <td>1.0</td>\n",
       "      <td>ml</td>\n",
       "      <td>NaN</td>\n",
       "      <td>NaN</td>\n",
       "      <td>NaN</td>\n",
       "      <td>0.13</td>\n",
       "      <td>ak</td>\n",
       "      <td>ak022fo60xk6</td>\n",
       "      <td>2022-12-07T13:07:07.370Z</td>\n",
       "      <td>51 km S of Glacier View, Alaska</td>\n",
       "      <td>earthquake</td>\n",
       "      <td>NaN</td>\n",
       "      <td>0.2</td>\n",
       "      <td>NaN</td>\n",
       "      <td>NaN</td>\n",
       "      <td>automatic</td>\n",
       "      <td>ak</td>\n",
       "      <td>ak</td>\n",
       "    </tr>\n",
       "    <tr>\n",
       "      <th>1</th>\n",
       "      <td>2</td>\n",
       "      <td>2022-12-07T12:46:16.699Z</td>\n",
       "      <td>61.6445</td>\n",
       "      <td>-146.4308</td>\n",
       "      <td>29.6</td>\n",
       "      <td>2.1</td>\n",
       "      <td>ml</td>\n",
       "      <td>NaN</td>\n",
       "      <td>NaN</td>\n",
       "      <td>NaN</td>\n",
       "      <td>0.55</td>\n",
       "      <td>ak</td>\n",
       "      <td>ak022fo5ofvp</td>\n",
       "      <td>2022-12-07T12:48:10.474Z</td>\n",
       "      <td>42 km SSE of Nelchina, Alaska</td>\n",
       "      <td>earthquake</td>\n",
       "      <td>NaN</td>\n",
       "      <td>0.4</td>\n",
       "      <td>NaN</td>\n",
       "      <td>NaN</td>\n",
       "      <td>automatic</td>\n",
       "      <td>ak</td>\n",
       "      <td>ak</td>\n",
       "    </tr>\n",
       "    <tr>\n",
       "      <th>2</th>\n",
       "      <td>3</td>\n",
       "      <td>2022-12-07T12:30:33.426Z</td>\n",
       "      <td>0.7701</td>\n",
       "      <td>125.5794</td>\n",
       "      <td>53.64</td>\n",
       "      <td>4.9</td>\n",
       "      <td>mb</td>\n",
       "      <td>40.0</td>\n",
       "      <td>62.0</td>\n",
       "      <td>1.787</td>\n",
       "      <td>0.89</td>\n",
       "      <td>us</td>\n",
       "      <td>us6000j7l3</td>\n",
       "      <td>2022-12-07T12:48:03.040Z</td>\n",
       "      <td>94 km SE of Tondano, Indonesia</td>\n",
       "      <td>earthquake</td>\n",
       "      <td>8.15</td>\n",
       "      <td>7.368</td>\n",
       "      <td>0.102</td>\n",
       "      <td>30.0</td>\n",
       "      <td>reviewed</td>\n",
       "      <td>us</td>\n",
       "      <td>us</td>\n",
       "    </tr>\n",
       "    <tr>\n",
       "      <th>3</th>\n",
       "      <td>4</td>\n",
       "      <td>2022-12-07T12:26:27.080Z</td>\n",
       "      <td>19.408501</td>\n",
       "      <td>-155.284332</td>\n",
       "      <td>2.53</td>\n",
       "      <td>1.72</td>\n",
       "      <td>ml</td>\n",
       "      <td>8.0</td>\n",
       "      <td>153.0</td>\n",
       "      <td>NaN</td>\n",
       "      <td>0.26</td>\n",
       "      <td>hv</td>\n",
       "      <td>hv73262942</td>\n",
       "      <td>2022-12-07T12:31:58.060Z</td>\n",
       "      <td>6 km SW of Volcano, Hawaii</td>\n",
       "      <td>earthquake</td>\n",
       "      <td>0.69</td>\n",
       "      <td>1.05</td>\n",
       "      <td>3.08</td>\n",
       "      <td>4.0</td>\n",
       "      <td>automatic</td>\n",
       "      <td>hv</td>\n",
       "      <td>hv</td>\n",
       "    </tr>\n",
       "    <tr>\n",
       "      <th>4</th>\n",
       "      <td>5</td>\n",
       "      <td>2022-12-07T12:23:33.790Z</td>\n",
       "      <td>61.5923</td>\n",
       "      <td>-141.0143</td>\n",
       "      <td>6.1</td>\n",
       "      <td>1.4</td>\n",
       "      <td>ml</td>\n",
       "      <td>NaN</td>\n",
       "      <td>NaN</td>\n",
       "      <td>NaN</td>\n",
       "      <td>0.26</td>\n",
       "      <td>ak</td>\n",
       "      <td>ak022fo5jjqb</td>\n",
       "      <td>2022-12-07T12:26:58.242Z</td>\n",
       "      <td>103 km E of McCarthy, Alaska</td>\n",
       "      <td>earthquake</td>\n",
       "      <td>NaN</td>\n",
       "      <td>0.7</td>\n",
       "      <td>NaN</td>\n",
       "      <td>NaN</td>\n",
       "      <td>automatic</td>\n",
       "      <td>ak</td>\n",
       "      <td>ak</td>\n",
       "    </tr>\n",
       "    <tr>\n",
       "      <th>...</th>\n",
       "      <td>...</td>\n",
       "      <td>...</td>\n",
       "      <td>...</td>\n",
       "      <td>...</td>\n",
       "      <td>...</td>\n",
       "      <td>...</td>\n",
       "      <td>...</td>\n",
       "      <td>...</td>\n",
       "      <td>...</td>\n",
       "      <td>...</td>\n",
       "      <td>...</td>\n",
       "      <td>...</td>\n",
       "      <td>...</td>\n",
       "      <td>...</td>\n",
       "      <td>...</td>\n",
       "      <td>...</td>\n",
       "      <td>...</td>\n",
       "      <td>...</td>\n",
       "      <td>...</td>\n",
       "      <td>...</td>\n",
       "      <td>...</td>\n",
       "      <td>...</td>\n",
       "      <td>...</td>\n",
       "    </tr>\n",
       "    <tr>\n",
       "      <th>13258</th>\n",
       "      <td>11331</td>\n",
       "      <td>2022-11-01T00:09:47.610Z</td>\n",
       "      <td>19.303833</td>\n",
       "      <td>-155.252</td>\n",
       "      <td>7.1</td>\n",
       "      <td>2.11</td>\n",
       "      <td>ml</td>\n",
       "      <td>29.0</td>\n",
       "      <td>103.0</td>\n",
       "      <td>NaN</td>\n",
       "      <td>0.08</td>\n",
       "      <td>hv</td>\n",
       "      <td>hv73202832</td>\n",
       "      <td>2022-11-01T00:53:32.860Z</td>\n",
       "      <td>15 km S of Volcano, Hawaii</td>\n",
       "      <td>earthquake</td>\n",
       "      <td>0.32</td>\n",
       "      <td>0.66</td>\n",
       "      <td>0.163371</td>\n",
       "      <td>13.0</td>\n",
       "      <td>reviewed</td>\n",
       "      <td>hv</td>\n",
       "      <td>hv</td>\n",
       "    </tr>\n",
       "    <tr>\n",
       "      <th>13259</th>\n",
       "      <td>11332</td>\n",
       "      <td>2022-11-01T00:06:29.998Z</td>\n",
       "      <td>53.6436</td>\n",
       "      <td>-164.4965</td>\n",
       "      <td>25.3</td>\n",
       "      <td>2.0</td>\n",
       "      <td>ml</td>\n",
       "      <td>NaN</td>\n",
       "      <td>NaN</td>\n",
       "      <td>NaN</td>\n",
       "      <td>0.41</td>\n",
       "      <td>ak</td>\n",
       "      <td>ak022e0ey787</td>\n",
       "      <td>2022-11-18T05:31:16.086Z</td>\n",
       "      <td>100 km ESE of Akutan, Alaska</td>\n",
       "      <td>earthquake</td>\n",
       "      <td>NaN</td>\n",
       "      <td>1.3</td>\n",
       "      <td>NaN</td>\n",
       "      <td>NaN</td>\n",
       "      <td>reviewed</td>\n",
       "      <td>ak</td>\n",
       "      <td>ak</td>\n",
       "    </tr>\n",
       "    <tr>\n",
       "      <th>13260</th>\n",
       "      <td>11333</td>\n",
       "      <td>2022-11-01T00:02:25.576Z</td>\n",
       "      <td>29.235535</td>\n",
       "      <td>-97.468635</td>\n",
       "      <td>2.616659</td>\n",
       "      <td>2.2</td>\n",
       "      <td>ml</td>\n",
       "      <td>14.0</td>\n",
       "      <td>71.0</td>\n",
       "      <td>0.053964</td>\n",
       "      <td>0.1</td>\n",
       "      <td>tx</td>\n",
       "      <td>tx2022vjlb</td>\n",
       "      <td>2022-11-19T04:47:44.040Z</td>\n",
       "      <td>16 km ESE of Smiley, Texas</td>\n",
       "      <td>earthquake</td>\n",
       "      <td>1.069571</td>\n",
       "      <td>2.373291</td>\n",
       "      <td>0.0</td>\n",
       "      <td>6.0</td>\n",
       "      <td>reviewed</td>\n",
       "      <td>tx</td>\n",
       "      <td>tx</td>\n",
       "    </tr>\n",
       "    <tr>\n",
       "      <th>13261</th>\n",
       "      <td>11334</td>\n",
       "      <td>2022-11-01T00:02:16.321Z</td>\n",
       "      <td>62.8042</td>\n",
       "      <td>-148.7465</td>\n",
       "      <td>15.6</td>\n",
       "      <td>1.4</td>\n",
       "      <td>ml</td>\n",
       "      <td>NaN</td>\n",
       "      <td>NaN</td>\n",
       "      <td>NaN</td>\n",
       "      <td>0.51</td>\n",
       "      <td>ak</td>\n",
       "      <td>ak022e0exbb7</td>\n",
       "      <td>2022-11-18T05:31:11.535Z</td>\n",
       "      <td>NaN</td>\n",
       "      <td>earthquake</td>\n",
       "      <td>NaN</td>\n",
       "      <td>0.1</td>\n",
       "      <td>NaN</td>\n",
       "      <td>NaN</td>\n",
       "      <td>reviewed</td>\n",
       "      <td>ak</td>\n",
       "      <td>ak</td>\n",
       "    </tr>\n",
       "    <tr>\n",
       "      <th>13262</th>\n",
       "      <td>0</td>\n",
       "      <td>1950-01-30T01:34:11.520Z</td>\n",
       "      <td>33.6956667</td>\n",
       "      <td>-118.3898333</td>\n",
       "      <td>6.0</td>\n",
       "      <td>2.41</td>\n",
       "      <td>ml</td>\n",
       "      <td>5.0</td>\n",
       "      <td>277.0</td>\n",
       "      <td>0.4868</td>\n",
       "      <td>0.38</td>\n",
       "      <td>ci</td>\n",
       "      <td>ci3362482</td>\n",
       "      <td>2016-01-28T17:58:15.530Z</td>\n",
       "      <td>5km S of Rancho Palos Verdes, CA</td>\n",
       "      <td>earthquake</td>\n",
       "      <td>1.9</td>\n",
       "      <td>31.61</td>\n",
       "      <td>0.146</td>\n",
       "      <td>6.0.1</td>\n",
       "      <td>reviewed</td>\n",
       "      <td>ci.1</td>\n",
       "      <td>ci.2</td>\n",
       "    </tr>\n",
       "  </tbody>\n",
       "</table>\n",
       "<p>13263 rows × 23 columns</p>\n",
       "</div>"
      ],
      "text/plain": [
       "       fuera                      time  ... locationSource magSource\n",
       "0          1  2022-12-07T13:04:44.541Z  ...             ak        ak\n",
       "1          2  2022-12-07T12:46:16.699Z  ...             ak        ak\n",
       "2          3  2022-12-07T12:30:33.426Z  ...             us        us\n",
       "3          4  2022-12-07T12:26:27.080Z  ...             hv        hv\n",
       "4          5  2022-12-07T12:23:33.790Z  ...             ak        ak\n",
       "...      ...                       ...  ...            ...       ...\n",
       "13258  11331  2022-11-01T00:09:47.610Z  ...             hv        hv\n",
       "13259  11332  2022-11-01T00:06:29.998Z  ...             ak        ak\n",
       "13260  11333  2022-11-01T00:02:25.576Z  ...             tx        tx\n",
       "13261  11334  2022-11-01T00:02:16.321Z  ...             ak        ak\n",
       "13262      0  1950-01-30T01:34:11.520Z  ...           ci.1      ci.2\n",
       "\n",
       "[13263 rows x 23 columns]"
      ]
     },
     "execution_count": 9,
     "metadata": {},
     "output_type": "execute_result"
    }
   ],
   "source": [
    "#df['time'] = pd.to_datetime(df.time, errors = 'coerce')\n",
    "df"
   ]
  },
  {
   "cell_type": "code",
   "execution_count": 10,
   "metadata": {},
   "outputs": [],
   "source": [
    "df.drop(['fuera'], axis = 1,inplace=True)"
   ]
  },
  {
   "cell_type": "code",
   "execution_count": 11,
   "metadata": {},
   "outputs": [
    {
     "data": {
      "text/html": [
       "<div>\n",
       "<style scoped>\n",
       "    .dataframe tbody tr th:only-of-type {\n",
       "        vertical-align: middle;\n",
       "    }\n",
       "\n",
       "    .dataframe tbody tr th {\n",
       "        vertical-align: top;\n",
       "    }\n",
       "\n",
       "    .dataframe thead th {\n",
       "        text-align: right;\n",
       "    }\n",
       "</style>\n",
       "<table border=\"1\" class=\"dataframe\">\n",
       "  <thead>\n",
       "    <tr style=\"text-align: right;\">\n",
       "      <th></th>\n",
       "      <th>time</th>\n",
       "      <th>latitude</th>\n",
       "      <th>longitude</th>\n",
       "      <th>depth</th>\n",
       "      <th>mag</th>\n",
       "      <th>magType</th>\n",
       "      <th>nst</th>\n",
       "      <th>gap</th>\n",
       "      <th>dmin</th>\n",
       "      <th>rms</th>\n",
       "      <th>net</th>\n",
       "      <th>id</th>\n",
       "      <th>updated</th>\n",
       "      <th>place</th>\n",
       "      <th>type</th>\n",
       "      <th>horizontalError</th>\n",
       "      <th>depthError</th>\n",
       "      <th>magError</th>\n",
       "      <th>magNst</th>\n",
       "      <th>status</th>\n",
       "      <th>locationSource</th>\n",
       "      <th>magSource</th>\n",
       "    </tr>\n",
       "  </thead>\n",
       "  <tbody>\n",
       "    <tr>\n",
       "      <th>0</th>\n",
       "      <td>2022-12-07T13:04:44.541Z</td>\n",
       "      <td>61.3471</td>\n",
       "      <td>-147.7464</td>\n",
       "      <td>33.9</td>\n",
       "      <td>1.0</td>\n",
       "      <td>ml</td>\n",
       "      <td>NaN</td>\n",
       "      <td>NaN</td>\n",
       "      <td>NaN</td>\n",
       "      <td>0.13</td>\n",
       "      <td>ak</td>\n",
       "      <td>ak022fo60xk6</td>\n",
       "      <td>2022-12-07T13:07:07.370Z</td>\n",
       "      <td>51 km S of Glacier View, Alaska</td>\n",
       "      <td>earthquake</td>\n",
       "      <td>NaN</td>\n",
       "      <td>0.2</td>\n",
       "      <td>NaN</td>\n",
       "      <td>NaN</td>\n",
       "      <td>automatic</td>\n",
       "      <td>ak</td>\n",
       "      <td>ak</td>\n",
       "    </tr>\n",
       "    <tr>\n",
       "      <th>1</th>\n",
       "      <td>2022-12-07T12:46:16.699Z</td>\n",
       "      <td>61.6445</td>\n",
       "      <td>-146.4308</td>\n",
       "      <td>29.6</td>\n",
       "      <td>2.1</td>\n",
       "      <td>ml</td>\n",
       "      <td>NaN</td>\n",
       "      <td>NaN</td>\n",
       "      <td>NaN</td>\n",
       "      <td>0.55</td>\n",
       "      <td>ak</td>\n",
       "      <td>ak022fo5ofvp</td>\n",
       "      <td>2022-12-07T12:48:10.474Z</td>\n",
       "      <td>42 km SSE of Nelchina, Alaska</td>\n",
       "      <td>earthquake</td>\n",
       "      <td>NaN</td>\n",
       "      <td>0.4</td>\n",
       "      <td>NaN</td>\n",
       "      <td>NaN</td>\n",
       "      <td>automatic</td>\n",
       "      <td>ak</td>\n",
       "      <td>ak</td>\n",
       "    </tr>\n",
       "    <tr>\n",
       "      <th>2</th>\n",
       "      <td>2022-12-07T12:30:33.426Z</td>\n",
       "      <td>0.7701</td>\n",
       "      <td>125.5794</td>\n",
       "      <td>53.64</td>\n",
       "      <td>4.9</td>\n",
       "      <td>mb</td>\n",
       "      <td>40.0</td>\n",
       "      <td>62.0</td>\n",
       "      <td>1.787</td>\n",
       "      <td>0.89</td>\n",
       "      <td>us</td>\n",
       "      <td>us6000j7l3</td>\n",
       "      <td>2022-12-07T12:48:03.040Z</td>\n",
       "      <td>94 km SE of Tondano, Indonesia</td>\n",
       "      <td>earthquake</td>\n",
       "      <td>8.15</td>\n",
       "      <td>7.368</td>\n",
       "      <td>0.102</td>\n",
       "      <td>30.0</td>\n",
       "      <td>reviewed</td>\n",
       "      <td>us</td>\n",
       "      <td>us</td>\n",
       "    </tr>\n",
       "    <tr>\n",
       "      <th>3</th>\n",
       "      <td>2022-12-07T12:26:27.080Z</td>\n",
       "      <td>19.408501</td>\n",
       "      <td>-155.284332</td>\n",
       "      <td>2.53</td>\n",
       "      <td>1.72</td>\n",
       "      <td>ml</td>\n",
       "      <td>8.0</td>\n",
       "      <td>153.0</td>\n",
       "      <td>NaN</td>\n",
       "      <td>0.26</td>\n",
       "      <td>hv</td>\n",
       "      <td>hv73262942</td>\n",
       "      <td>2022-12-07T12:31:58.060Z</td>\n",
       "      <td>6 km SW of Volcano, Hawaii</td>\n",
       "      <td>earthquake</td>\n",
       "      <td>0.69</td>\n",
       "      <td>1.05</td>\n",
       "      <td>3.08</td>\n",
       "      <td>4.0</td>\n",
       "      <td>automatic</td>\n",
       "      <td>hv</td>\n",
       "      <td>hv</td>\n",
       "    </tr>\n",
       "    <tr>\n",
       "      <th>4</th>\n",
       "      <td>2022-12-07T12:23:33.790Z</td>\n",
       "      <td>61.5923</td>\n",
       "      <td>-141.0143</td>\n",
       "      <td>6.1</td>\n",
       "      <td>1.4</td>\n",
       "      <td>ml</td>\n",
       "      <td>NaN</td>\n",
       "      <td>NaN</td>\n",
       "      <td>NaN</td>\n",
       "      <td>0.26</td>\n",
       "      <td>ak</td>\n",
       "      <td>ak022fo5jjqb</td>\n",
       "      <td>2022-12-07T12:26:58.242Z</td>\n",
       "      <td>103 km E of McCarthy, Alaska</td>\n",
       "      <td>earthquake</td>\n",
       "      <td>NaN</td>\n",
       "      <td>0.7</td>\n",
       "      <td>NaN</td>\n",
       "      <td>NaN</td>\n",
       "      <td>automatic</td>\n",
       "      <td>ak</td>\n",
       "      <td>ak</td>\n",
       "    </tr>\n",
       "  </tbody>\n",
       "</table>\n",
       "</div>"
      ],
      "text/plain": [
       "                       time   latitude  ... locationSource magSource\n",
       "0  2022-12-07T13:04:44.541Z    61.3471  ...             ak        ak\n",
       "1  2022-12-07T12:46:16.699Z    61.6445  ...             ak        ak\n",
       "2  2022-12-07T12:30:33.426Z     0.7701  ...             us        us\n",
       "3  2022-12-07T12:26:27.080Z  19.408501  ...             hv        hv\n",
       "4  2022-12-07T12:23:33.790Z    61.5923  ...             ak        ak\n",
       "\n",
       "[5 rows x 22 columns]"
      ]
     },
     "execution_count": 11,
     "metadata": {},
     "output_type": "execute_result"
    }
   ],
   "source": [
    "df.head()"
   ]
  },
  {
   "cell_type": "markdown",
   "metadata": {},
   "source": [
    "# Revisado de valores de las columnas"
   ]
  },
  {
   "cell_type": "code",
   "execution_count": 12,
   "metadata": {},
   "outputs": [
    {
     "data": {
      "text/plain": [
       "array(['earthquake', 'quarry blast', 'explosion', 'ice quake',\n",
       "       'other event'], dtype=object)"
      ]
     },
     "execution_count": 12,
     "metadata": {},
     "output_type": "execute_result"
    }
   ],
   "source": [
    "df['type'].unique()"
   ]
  },
  {
   "cell_type": "code",
   "execution_count": 13,
   "metadata": {},
   "outputs": [
    {
     "data": {
      "text/plain": [
       "array(['automatic', 'reviewed'], dtype=object)"
      ]
     },
     "execution_count": 13,
     "metadata": {},
     "output_type": "execute_result"
    }
   ],
   "source": [
    "df['status'].unique()"
   ]
  },
  {
   "cell_type": "code",
   "execution_count": 14,
   "metadata": {},
   "outputs": [
    {
     "data": {
      "text/plain": [
       "array(['ak', 'us', 'hv', 'nn', 'ci', 'nc', 'ok', 'pr', 'uw', 'nm', 'tx',\n",
       "       'uu', 'av', 'se', 'ci.1'], dtype=object)"
      ]
     },
     "execution_count": 14,
     "metadata": {},
     "output_type": "execute_result"
    }
   ],
   "source": [
    "df['locationSource'].unique()"
   ]
  },
  {
   "cell_type": "code",
   "execution_count": 15,
   "metadata": {},
   "outputs": [
    {
     "data": {
      "text/plain": [
       "array(['ak', 'us', 'hv', 'nn', 'ci', 'nc', 'ok', 'pr', 'uw', 'nm', 'tx',\n",
       "       'uu', 'av', 'se', 'guc', 'pgc', 'ci.2'], dtype=object)"
      ]
     },
     "execution_count": 15,
     "metadata": {},
     "output_type": "execute_result"
    }
   ],
   "source": [
    "df['magSource'].unique()"
   ]
  },
  {
   "cell_type": "code",
   "execution_count": 16,
   "metadata": {},
   "outputs": [
    {
     "data": {
      "text/plain": [
       "array([nan, 30.0, 4.0, 10.0, 19.0, 12.0, 28.0, 26.0, 11.0, 17.0, 5.0,\n",
       "       18.0, 13.0, 24.0, 14.0, 33.0, 8.0, 9.0, 74.0, 47.0, 7.0, 6.0, 15.0,\n",
       "       31.0, 29.0, 25.0, 21.0, 22.0, 93.0, 70.0, 35.0, 16.0, 27.0, 44.0,\n",
       "       1.0, 46.0, 63.0, 3.0, 32.0, 91.0, 77.0, 20.0, 72.0, 2.0, 38.0,\n",
       "       150.0, 126.0, 23.0, 34.0, 171.0, 41.0, 36.0, 40.0, 81.0, 73.0,\n",
       "       60.0, 45.0, 49.0, 240.0, 37.0, 292.0, 162.0, 341.0, 370.0, 43.0,\n",
       "       125.0, 217.0, 99.0, 191.0, 243.0, 54.0, 67.0, 79.0, 136.0, 65.0,\n",
       "       52.0, 62.0, 80.0, 64.0, 669.0, 51.0, 39.0, 307.0, 116.0, 42.0,\n",
       "       53.0, 55.0, 83.0, 117.0, 48.0, 0.0, 155.0, 317.0, 181.0, 71.0,\n",
       "       58.0, 88.0, 122.0, 75.0, 68.0, 50.0, 76.0, 129.0, 61.0, 522.0,\n",
       "       431.0, 57.0, 157.0, 147.0, 59.0, 56.0, 85.0, 163.0, 139.0, 110.0,\n",
       "       69.0, 387.0, 146.0, 130.0, 144.0, 119.0, 92.0, 98.0, 89.0, 392.0,\n",
       "       96.0, 123.0, 108.0, 540.0, 132.0, 149.0, 103.0, 131.0, 112.0,\n",
       "       100.0, 82.0, 165.0, 160.0, 94.0, 120.0, 415.0, 186.0, 104.0, 151.0,\n",
       "       118.0, 142.0, 229.0, 106.0, 427.0, 225.0, 252.0, 344.0, 87.0,\n",
       "       184.0, 86.0, 134.0, 105.0, 148.0, 114.0, 101.0, 84.0, 714.0, 187.0,\n",
       "       143.0, 312.0, 111.0, 90.0, 253.0, 463.0, 434.0, 198.0, 124.0,\n",
       "       223.0, 565.0, 66.0, 289.0, 145.0, 95.0, 272.0, 161.0, 222.0, 152.0,\n",
       "       228.0, 247.0, 388.0, 128.0, 227.0, 334.0, 190.0, 121.0, 135.0,\n",
       "       218.0, 78.0, 127.0, 138.0, 140.0, 349.0, 180.0, 115.0, 361.0,\n",
       "       248.0, '6.0.1'], dtype=object)"
      ]
     },
     "execution_count": 16,
     "metadata": {},
     "output_type": "execute_result"
    }
   ],
   "source": [
    "df['magNst'].unique()"
   ]
  },
  {
   "cell_type": "code",
   "execution_count": 17,
   "metadata": {},
   "outputs": [
    {
     "data": {
      "text/plain": [
       "array(['ak', 'us', 'hv', 'nn', 'ci', 'nc', 'ok', 'pr', 'uw', 'nm', 'tx',\n",
       "       'uu', 'av', 'se'], dtype=object)"
      ]
     },
     "execution_count": 17,
     "metadata": {},
     "output_type": "execute_result"
    }
   ],
   "source": [
    "df['net'].unique()"
   ]
  },
  {
   "cell_type": "code",
   "execution_count": 18,
   "metadata": {},
   "outputs": [
    {
     "data": {
      "text/plain": [
       "array(['ml', 'mb', 'md', 'mww', 'mw', 'mwr', 'mh', 'mlv', 'mb_lg', 'mwb',\n",
       "       nan], dtype=object)"
      ]
     },
     "execution_count": 18,
     "metadata": {},
     "output_type": "execute_result"
    }
   ],
   "source": [
    "df['magType'].unique()"
   ]
  },
  {
   "cell_type": "code",
   "execution_count": 19,
   "metadata": {},
   "outputs": [
    {
     "data": {
      "text/html": [
       "<div>\n",
       "<style scoped>\n",
       "    .dataframe tbody tr th:only-of-type {\n",
       "        vertical-align: middle;\n",
       "    }\n",
       "\n",
       "    .dataframe tbody tr th {\n",
       "        vertical-align: top;\n",
       "    }\n",
       "\n",
       "    .dataframe thead th {\n",
       "        text-align: right;\n",
       "    }\n",
       "</style>\n",
       "<table border=\"1\" class=\"dataframe\">\n",
       "  <thead>\n",
       "    <tr style=\"text-align: right;\">\n",
       "      <th></th>\n",
       "      <th>time</th>\n",
       "      <th>latitude</th>\n",
       "      <th>longitude</th>\n",
       "      <th>depth</th>\n",
       "      <th>mag</th>\n",
       "      <th>magType</th>\n",
       "      <th>nst</th>\n",
       "      <th>gap</th>\n",
       "      <th>dmin</th>\n",
       "      <th>rms</th>\n",
       "      <th>net</th>\n",
       "      <th>id</th>\n",
       "      <th>updated</th>\n",
       "      <th>place</th>\n",
       "      <th>type</th>\n",
       "      <th>horizontalError</th>\n",
       "      <th>depthError</th>\n",
       "      <th>magError</th>\n",
       "      <th>magNst</th>\n",
       "      <th>status</th>\n",
       "      <th>locationSource</th>\n",
       "      <th>magSource</th>\n",
       "    </tr>\n",
       "  </thead>\n",
       "  <tbody>\n",
       "    <tr>\n",
       "      <th>0</th>\n",
       "      <td>2022-12-07T13:04:44.541Z</td>\n",
       "      <td>61.3471</td>\n",
       "      <td>-147.7464</td>\n",
       "      <td>33.9</td>\n",
       "      <td>1.0</td>\n",
       "      <td>ml</td>\n",
       "      <td>NaN</td>\n",
       "      <td>NaN</td>\n",
       "      <td>NaN</td>\n",
       "      <td>0.13</td>\n",
       "      <td>ak</td>\n",
       "      <td>ak022fo60xk6</td>\n",
       "      <td>2022-12-07T13:07:07.370Z</td>\n",
       "      <td>51 km S of Glacier View, Alaska</td>\n",
       "      <td>earthquake</td>\n",
       "      <td>NaN</td>\n",
       "      <td>0.2</td>\n",
       "      <td>NaN</td>\n",
       "      <td>NaN</td>\n",
       "      <td>automatic</td>\n",
       "      <td>ak</td>\n",
       "      <td>ak</td>\n",
       "    </tr>\n",
       "    <tr>\n",
       "      <th>1</th>\n",
       "      <td>2022-12-07T12:46:16.699Z</td>\n",
       "      <td>61.6445</td>\n",
       "      <td>-146.4308</td>\n",
       "      <td>29.6</td>\n",
       "      <td>2.1</td>\n",
       "      <td>ml</td>\n",
       "      <td>NaN</td>\n",
       "      <td>NaN</td>\n",
       "      <td>NaN</td>\n",
       "      <td>0.55</td>\n",
       "      <td>ak</td>\n",
       "      <td>ak022fo5ofvp</td>\n",
       "      <td>2022-12-07T12:48:10.474Z</td>\n",
       "      <td>42 km SSE of Nelchina, Alaska</td>\n",
       "      <td>earthquake</td>\n",
       "      <td>NaN</td>\n",
       "      <td>0.4</td>\n",
       "      <td>NaN</td>\n",
       "      <td>NaN</td>\n",
       "      <td>automatic</td>\n",
       "      <td>ak</td>\n",
       "      <td>ak</td>\n",
       "    </tr>\n",
       "  </tbody>\n",
       "</table>\n",
       "</div>"
      ],
      "text/plain": [
       "                       time latitude  ... locationSource magSource\n",
       "0  2022-12-07T13:04:44.541Z  61.3471  ...             ak        ak\n",
       "1  2022-12-07T12:46:16.699Z  61.6445  ...             ak        ak\n",
       "\n",
       "[2 rows x 22 columns]"
      ]
     },
     "execution_count": 19,
     "metadata": {},
     "output_type": "execute_result"
    }
   ],
   "source": [
    "df.head(2)"
   ]
  },
  {
   "cell_type": "markdown",
   "metadata": {},
   "source": [
    "# Creamos un nuevo dataframe con las columnas que vamos a utilizar "
   ]
  },
  {
   "cell_type": "code",
   "execution_count": 20,
   "metadata": {},
   "outputs": [],
   "source": [
    "df_nuevo=df[['time','latitude','longitude','depth','mag','magType','nst','gap','dmin','rms','net','place','type']]"
   ]
  },
  {
   "cell_type": "code",
   "execution_count": 21,
   "metadata": {},
   "outputs": [
    {
     "data": {
      "text/html": [
       "<div>\n",
       "<style scoped>\n",
       "    .dataframe tbody tr th:only-of-type {\n",
       "        vertical-align: middle;\n",
       "    }\n",
       "\n",
       "    .dataframe tbody tr th {\n",
       "        vertical-align: top;\n",
       "    }\n",
       "\n",
       "    .dataframe thead th {\n",
       "        text-align: right;\n",
       "    }\n",
       "</style>\n",
       "<table border=\"1\" class=\"dataframe\">\n",
       "  <thead>\n",
       "    <tr style=\"text-align: right;\">\n",
       "      <th></th>\n",
       "      <th>time</th>\n",
       "      <th>latitude</th>\n",
       "      <th>longitude</th>\n",
       "      <th>depth</th>\n",
       "      <th>mag</th>\n",
       "      <th>magType</th>\n",
       "      <th>nst</th>\n",
       "      <th>gap</th>\n",
       "      <th>dmin</th>\n",
       "      <th>rms</th>\n",
       "      <th>net</th>\n",
       "      <th>place</th>\n",
       "      <th>type</th>\n",
       "    </tr>\n",
       "  </thead>\n",
       "  <tbody>\n",
       "    <tr>\n",
       "      <th>0</th>\n",
       "      <td>2022-12-07T13:04:44.541Z</td>\n",
       "      <td>61.3471</td>\n",
       "      <td>-147.7464</td>\n",
       "      <td>33.9</td>\n",
       "      <td>1.0</td>\n",
       "      <td>ml</td>\n",
       "      <td>NaN</td>\n",
       "      <td>NaN</td>\n",
       "      <td>NaN</td>\n",
       "      <td>0.13</td>\n",
       "      <td>ak</td>\n",
       "      <td>51 km S of Glacier View, Alaska</td>\n",
       "      <td>earthquake</td>\n",
       "    </tr>\n",
       "    <tr>\n",
       "      <th>1</th>\n",
       "      <td>2022-12-07T12:46:16.699Z</td>\n",
       "      <td>61.6445</td>\n",
       "      <td>-146.4308</td>\n",
       "      <td>29.6</td>\n",
       "      <td>2.1</td>\n",
       "      <td>ml</td>\n",
       "      <td>NaN</td>\n",
       "      <td>NaN</td>\n",
       "      <td>NaN</td>\n",
       "      <td>0.55</td>\n",
       "      <td>ak</td>\n",
       "      <td>42 km SSE of Nelchina, Alaska</td>\n",
       "      <td>earthquake</td>\n",
       "    </tr>\n",
       "  </tbody>\n",
       "</table>\n",
       "</div>"
      ],
      "text/plain": [
       "                       time  ...        type\n",
       "0  2022-12-07T13:04:44.541Z  ...  earthquake\n",
       "1  2022-12-07T12:46:16.699Z  ...  earthquake\n",
       "\n",
       "[2 rows x 13 columns]"
      ]
     },
     "execution_count": 21,
     "metadata": {},
     "output_type": "execute_result"
    }
   ],
   "source": [
    "df_nuevo.head(2)"
   ]
  },
  {
   "cell_type": "markdown",
   "metadata": {},
   "source": [
    "Analizamos bien la columna magType"
   ]
  },
  {
   "cell_type": "code",
   "execution_count": 22,
   "metadata": {},
   "outputs": [
    {
     "data": {
      "text/plain": [
       "array(['ml', 'mb', 'md', 'mww', 'mw', 'mwr', 'mh', 'mlv', 'mb_lg', 'mwb',\n",
       "       nan], dtype=object)"
      ]
     },
     "execution_count": 22,
     "metadata": {},
     "output_type": "execute_result"
    }
   ],
   "source": [
    "df_nuevo['magType'].unique()"
   ]
  },
  {
   "cell_type": "markdown",
   "metadata": {},
   "source": [
    "# Cambiamos el tipo de dato a la columna mag"
   ]
  },
  {
   "cell_type": "code",
   "execution_count": 23,
   "metadata": {},
   "outputs": [],
   "source": [
    "df_nuevo=df_nuevo.astype({'mag':'float32'})"
   ]
  },
  {
   "cell_type": "markdown",
   "metadata": {},
   "source": [
    "# Utilizamos solo las magnitudes mayores a 1.5"
   ]
  },
  {
   "cell_type": "code",
   "execution_count": 24,
   "metadata": {},
   "outputs": [],
   "source": [
    "mag_max_1=df_nuevo[df_nuevo['mag']>1.5]"
   ]
  },
  {
   "cell_type": "markdown",
   "metadata": {},
   "source": [
    "Revisamos la diferencia de datos del dataset original al nuevo"
   ]
  },
  {
   "cell_type": "code",
   "execution_count": 25,
   "metadata": {},
   "outputs": [
    {
     "data": {
      "text/plain": [
       "(6268, 13)"
      ]
     },
     "execution_count": 25,
     "metadata": {},
     "output_type": "execute_result"
    }
   ],
   "source": [
    "#1.970.000 filas y 13 columnas\n",
    "mag_max_1.shape"
   ]
  },
  {
   "cell_type": "code",
   "execution_count": 26,
   "metadata": {},
   "outputs": [
    {
     "data": {
      "text/plain": [
       "(13263, 22)"
      ]
     },
     "execution_count": 26,
     "metadata": {},
     "output_type": "execute_result"
    }
   ],
   "source": [
    "#4 millones de filas y 22 columnas\n",
    "df.shape"
   ]
  },
  {
   "cell_type": "markdown",
   "metadata": {},
   "source": [
    "# Filtramos solo los que sean earthquake"
   ]
  },
  {
   "cell_type": "code",
   "execution_count": 27,
   "metadata": {},
   "outputs": [],
   "source": [
    "earthquake=mag_max_1[mag_max_1['type']=='earthquake']"
   ]
  },
  {
   "cell_type": "code",
   "execution_count": 28,
   "metadata": {},
   "outputs": [
    {
     "data": {
      "text/plain": [
       "(6193, 13)"
      ]
     },
     "execution_count": 28,
     "metadata": {},
     "output_type": "execute_result"
    }
   ],
   "source": [
    "# Consideramos que esto no considera una mejora significativa para nuestro modelo por lo que es mejor simplemente dejar esta columna y dejar los datos de esta\n",
    "earthquake.shape"
   ]
  },
  {
   "cell_type": "markdown",
   "metadata": {},
   "source": [
    "# Borramos los nulos"
   ]
  },
  {
   "cell_type": "code",
   "execution_count": 29,
   "metadata": {},
   "outputs": [
    {
     "name": "stderr",
     "output_type": "stream",
     "text": [
      "/opt/conda/lib/python3.7/site-packages/pandas/util/_decorators.py:311: SettingWithCopyWarning: \n",
      "A value is trying to be set on a copy of a slice from a DataFrame\n",
      "\n",
      "See the caveats in the documentation: https://pandas.pydata.org/pandas-docs/stable/user_guide/indexing.html#returning-a-view-versus-a-copy\n",
      "  return func(*args, **kwargs)\n"
     ]
    }
   ],
   "source": [
    "mag_max_1.dropna(inplace=True)"
   ]
  },
  {
   "cell_type": "code",
   "execution_count": 30,
   "metadata": {},
   "outputs": [
    {
     "data": {
      "text/plain": [
       "(3266, 13)"
      ]
     },
     "execution_count": 30,
     "metadata": {},
     "output_type": "execute_result"
    }
   ],
   "source": [
    "mag_max_1.shape"
   ]
  },
  {
   "cell_type": "markdown",
   "metadata": {},
   "source": [
    "# Arreglamos la columna Time"
   ]
  },
  {
   "cell_type": "code",
   "execution_count": 31,
   "metadata": {
    "tags": []
   },
   "outputs": [],
   "source": [
    "date_col = 'time'\n",
    "datetimes = mag_max_1[date_col].str.split('T', expand = True)\n",
    "dates = pd.to_datetime(datetimes.loc[:, 0], format = '%Y-%m-%d')\n",
    "hours = datetimes.loc[:, 1]\n",
    "hours = hours.astype('str')\n",
    "hours2=hours.str.split('.',expand=True)\n",
    "hours2=hours2.loc[:,0]\n",
    "mag_max_1 = pd.concat((mag_max_1, hours2.rename('hour')), axis=1)\n",
    "mag_max_1 = pd.concat((mag_max_1, dates.rename('date')), axis=1)\n",
    "mag_max_1 = mag_max_1.drop(date_col, axis=1)"
   ]
  },
  {
   "cell_type": "markdown",
   "metadata": {},
   "source": [
    "# Arreglamos la columna MagType"
   ]
  },
  {
   "cell_type": "code",
   "execution_count": 32,
   "metadata": {},
   "outputs": [],
   "source": [
    "mag_max_1['magType']= mag_max_1['magType'].replace('Unknown','ml')\n",
    "mag_max_1['magType']= mag_max_1['magType'].replace('Ml','ml')\n",
    "mag_max_1['magType']= mag_max_1['magType'].replace('Md','md')\n",
    "mag_max_1['magType']= mag_max_1['magType'].replace('Mb','mb')\n",
    "mag_max_1['magType']= mag_max_1['magType'].replace('Mi','ml')"
   ]
  },
  {
   "cell_type": "markdown",
   "metadata": {},
   "source": [
    "# Guardamos el CSV"
   ]
  },
  {
   "cell_type": "code",
   "execution_count": 33,
   "metadata": {},
   "outputs": [],
   "source": [
    "mag_max_1.to_csv('./ConcatenaIncremental/Ultimomes.csv')"
   ]
  },
  {
   "cell_type": "code",
   "execution_count": null,
   "metadata": {},
   "outputs": [],
   "source": [
    "mag_max_1.head()"
   ]
  },
  {
   "cell_type": "code",
   "execution_count": 34,
   "metadata": {},
   "outputs": [],
   "source": [
    "def join_csv(path=None, out_file=None):\n",
    "\n",
    "    if path is None:\n",
    "        files = [file for file in os.listdir() if '.csv' in file]\n",
    "    else:\n",
    "        files = [os.path.join(path, file) for file in os.listdir(path) if '.csv' in file]\n",
    "        \n",
    "    df = pd.concat(map(pd.read_csv, files), ignore_index=True)\n",
    "    \n",
    "    if out_file is not None:\n",
    "        if path is None:\n",
    "            df.to_csv(out_file,index=False,header=None)\n",
    "        else:\n",
    "            df.to_csv(os.path.join(path, out_file),index=False,header=None)\n",
    "        \n",
    "    return df"
   ]
  },
  {
   "cell_type": "code",
   "execution_count": 35,
   "metadata": {},
   "outputs": [
    {
     "ename": "NameError",
     "evalue": "name 'os' is not defined",
     "output_type": "error",
     "traceback": [
      "\u001b[0;31m---------------------------------------------------------------------------\u001b[0m",
      "\u001b[0;31mNameError\u001b[0m                                 Traceback (most recent call last)",
      "\u001b[0;32m/tmp/ipykernel_2423/1301070855.py\u001b[0m in \u001b[0;36m<module>\u001b[0;34m\u001b[0m\n\u001b[0;32m----> 1\u001b[0;31m \u001b[0mjoin_csv\u001b[0m\u001b[0;34m(\u001b[0m\u001b[0;34mr'./ConcatenaIncremental'\u001b[0m\u001b[0;34m,\u001b[0m\u001b[0;34m'./SalidaFinal.csv'\u001b[0m\u001b[0;34m)\u001b[0m\u001b[0;34m\u001b[0m\u001b[0;34m\u001b[0m\u001b[0m\n\u001b[0m",
      "\u001b[0;32m/tmp/ipykernel_2423/1766327406.py\u001b[0m in \u001b[0;36mjoin_csv\u001b[0;34m(path, out_file)\u001b[0m\n\u001b[1;32m      4\u001b[0m         \u001b[0mfiles\u001b[0m \u001b[0;34m=\u001b[0m \u001b[0;34m[\u001b[0m\u001b[0mfile\u001b[0m \u001b[0;32mfor\u001b[0m \u001b[0mfile\u001b[0m \u001b[0;32min\u001b[0m \u001b[0mos\u001b[0m\u001b[0;34m.\u001b[0m\u001b[0mlistdir\u001b[0m\u001b[0;34m(\u001b[0m\u001b[0;34m)\u001b[0m \u001b[0;32mif\u001b[0m \u001b[0;34m'.csv'\u001b[0m \u001b[0;32min\u001b[0m \u001b[0mfile\u001b[0m\u001b[0;34m]\u001b[0m\u001b[0;34m\u001b[0m\u001b[0;34m\u001b[0m\u001b[0m\n\u001b[1;32m      5\u001b[0m     \u001b[0;32melse\u001b[0m\u001b[0;34m:\u001b[0m\u001b[0;34m\u001b[0m\u001b[0;34m\u001b[0m\u001b[0m\n\u001b[0;32m----> 6\u001b[0;31m         \u001b[0mfiles\u001b[0m \u001b[0;34m=\u001b[0m \u001b[0;34m[\u001b[0m\u001b[0mos\u001b[0m\u001b[0;34m.\u001b[0m\u001b[0mpath\u001b[0m\u001b[0;34m.\u001b[0m\u001b[0mjoin\u001b[0m\u001b[0;34m(\u001b[0m\u001b[0mpath\u001b[0m\u001b[0;34m,\u001b[0m \u001b[0mfile\u001b[0m\u001b[0;34m)\u001b[0m \u001b[0;32mfor\u001b[0m \u001b[0mfile\u001b[0m \u001b[0;32min\u001b[0m \u001b[0mos\u001b[0m\u001b[0;34m.\u001b[0m\u001b[0mlistdir\u001b[0m\u001b[0;34m(\u001b[0m\u001b[0mpath\u001b[0m\u001b[0;34m)\u001b[0m \u001b[0;32mif\u001b[0m \u001b[0;34m'.csv'\u001b[0m \u001b[0;32min\u001b[0m \u001b[0mfile\u001b[0m\u001b[0;34m]\u001b[0m\u001b[0;34m\u001b[0m\u001b[0;34m\u001b[0m\u001b[0m\n\u001b[0m\u001b[1;32m      7\u001b[0m \u001b[0;34m\u001b[0m\u001b[0m\n\u001b[1;32m      8\u001b[0m     \u001b[0mdf\u001b[0m \u001b[0;34m=\u001b[0m \u001b[0mpd\u001b[0m\u001b[0;34m.\u001b[0m\u001b[0mconcat\u001b[0m\u001b[0;34m(\u001b[0m\u001b[0mmap\u001b[0m\u001b[0;34m(\u001b[0m\u001b[0mpd\u001b[0m\u001b[0;34m.\u001b[0m\u001b[0mread_csv\u001b[0m\u001b[0;34m,\u001b[0m \u001b[0mfiles\u001b[0m\u001b[0;34m)\u001b[0m\u001b[0;34m,\u001b[0m \u001b[0mignore_index\u001b[0m\u001b[0;34m=\u001b[0m\u001b[0;32mTrue\u001b[0m\u001b[0;34m)\u001b[0m\u001b[0;34m\u001b[0m\u001b[0;34m\u001b[0m\u001b[0m\n",
      "\u001b[0;31mNameError\u001b[0m: name 'os' is not defined"
     ]
    }
   ],
   "source": [
    "join_csv(r'./ConcatenaIncremental','./SalidaFinal.csv')"
   ]
  },
  {
   "cell_type": "code",
   "execution_count": null,
   "metadata": {},
   "outputs": [],
   "source": []
  }
 ],
 "metadata": {
  "environment": {
   "kernel": "python3",
   "name": "common-cpu.m100",
   "type": "gcloud",
   "uri": "gcr.io/deeplearning-platform-release/base-cpu:m100"
  },
  "kernelspec": {
   "display_name": "Python 3",
   "language": "python",
   "name": "python3"
  },
  "language_info": {
   "codemirror_mode": {
    "name": "ipython",
    "version": 3
   },
   "file_extension": ".py",
   "mimetype": "text/x-python",
   "name": "python",
   "nbconvert_exporter": "python",
   "pygments_lexer": "ipython3",
   "version": "3.7.12"
  },
  "vscode": {
   "interpreter": {
    "hash": "0f17dde64770433992390f8473ebad215aa284b6908de17513dd447e079dff6d"
   }
  }
 },
 "nbformat": 4,
 "nbformat_minor": 4
}
