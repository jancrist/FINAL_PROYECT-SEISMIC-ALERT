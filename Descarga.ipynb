{
 "cells": [
  {
   "cell_type": "code",
   "execution_count": null,
   "metadata": {},
   "outputs": [],
   "source": [
    "'l'"
   ]
  },
  {
   "cell_type": "code",
   "execution_count": null,
   "metadata": {},
   "outputs": [],
   "source": [
    "import pandas as pd"
   ]
  },
  {
   "cell_type": "code",
   "execution_count": 3,
   "metadata": {},
   "outputs": [],
   "source": [
    "for anio in range(1950,2000):\n",
    "                for i in range(1,13):\n",
    "                     \n",
    "                            aniostart=anio\n",
    "                            messtart=i\n",
    "                            diastart=1\n",
    "                            anioend=anio\n",
    "                            mesend=i\n",
    "                            diaend=31\n",
    "                            \n",
    "                            url= f\"https://earthquake.usgs.gov/fdsnws/event/1/query?format=csv&starttime={aniostart}-{messtart}-{diastart}&endtime={anioend}-{mesend}-{diaend}\"\n",
    "                            data = pd.read_csv(url)\n",
    "                            \n",
    "                            df=pd.DataFrame(data)\n",
    "                            df.to_csv(f'{aniostart}-{messtart}.csv')"
   ]
  },
  {
   "cell_type": "code",
   "execution_count": null,
   "metadata": {},
   "outputs": [],
   "source": [
    "import pandas as pd\n",
    "import os\n",
    "\n",
    "def join_csv(path=None, out_file=None):\n",
    "    \"\"\"\n",
    "    Combina los archivos CSV existentes en una carpeta y devolverlo como un\n",
    "    DataFrame.\n",
    "    \n",
    "    Parameters\n",
    "    ----------\n",
    "    path : string\n",
    "        La ruta en la que se encuentran los archivos, si no se indica ninguna se\n",
    "        usará la carpeta actual.\n",
    "    out_file :string\n",
    "        Archivo opcional en el que se guardará los resultados, en caso de que no\n",
    "        se indique un nombre no se generará\n",
    "    \n",
    "    Returns\n",
    "    -------\n",
    "    DataFrame\n",
    "        Obejto DataFrame con la unión de los archivos CSV\n",
    "    \"\"\"\n",
    "    \n",
    "\n",
    "    if path is None:\n",
    "        files = [file for file in os.listdir() if '.csv' in file]\n",
    "    else:\n",
    "        files = [os.path.join(path, file) for file in os.listdir(path) if '.csv' in file]\n",
    "        \n",
    "    df = pd.concat(map(pd.read_csv, files), ignore_index=True)\n",
    "    \n",
    "    if out_file is not None:\n",
    "        if path is None:\n",
    "            df.to_csv(out_file,index=False,header=None)\n",
    "        else:\n",
    "            df.to_csv(os.path.join(path, out_file),index=False,header=None)\n",
    "        \n",
    "    return df"
   ]
  },
  {
   "cell_type": "code",
   "execution_count": null,
   "metadata": {},
   "outputs": [],
   "source": [
    "df1=pd.read_csv('2000-1.csv')\n",
    "df2=pd.read_csv('2000-2.csv')\n"
   ]
  },
  {
   "cell_type": "code",
   "execution_count": null,
   "metadata": {},
   "outputs": [],
   "source": [
    "join_csv(None,'Salida.csv')"
   ]
  }
 ],
 "metadata": {
  "kernelspec": {
   "display_name": "Python 3.10.8 64-bit (microsoft store)",
   "language": "python",
   "name": "python3"
  },
  "language_info": {
   "codemirror_mode": {
    "name": "ipython",
    "version": 3
   },
   "file_extension": ".py",
   "mimetype": "text/x-python",
   "name": "python",
   "nbconvert_exporter": "python",
   "pygments_lexer": "ipython3",
   "version": "3.10.8"
  },
  "orig_nbformat": 4,
  "vscode": {
   "interpreter": {
    "hash": "b0b7d1ff132357b0e0a655b533f49977165e4dbe00e2954e226474a7d462c2ea"
   }
  }
 },
 "nbformat": 4,
 "nbformat_minor": 2
}
