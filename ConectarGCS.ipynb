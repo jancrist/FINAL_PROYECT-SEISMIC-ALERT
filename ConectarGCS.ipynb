{
 "cells": [
  {
   "cell_type": "markdown",
   "metadata": {},
   "source": [
    "# IMPORTANTE: ESTE CODIGO DEBE SER REPRODUCIDO EN UNA MAQUINA VIRTUAL (JUPYTER) DENTRO DE LOS SERVICIOS DE GOOGLE CLOUD. (VERTEX AI)"
   ]
  },
  {
   "cell_type": "markdown",
   "metadata": {},
   "source": [
    "# Importamos Librerias"
   ]
  },
  {
   "cell_type": "code",
   "execution_count": null,
   "metadata": {},
   "outputs": [],
   "source": [
    "\n",
    "from google.cloud import storage\n",
    "from google.cloud.storage.blob import Blob"
   ]
  },
  {
   "cell_type": "markdown",
   "metadata": {},
   "source": [
    "# Funcion que nos permite acceder a los buckets y blobs"
   ]
  },
  {
   "cell_type": "code",
   "execution_count": null,
   "metadata": {},
   "outputs": [],
   "source": [
    "\n",
    "storage_client = storage.Client()"
   ]
  },
  {
   "cell_type": "markdown",
   "metadata": {},
   "source": [
    "# Comprobamos la conexión global a Cloud Storage"
   ]
  },
  {
   "cell_type": "code",
   "execution_count": null,
   "metadata": {},
   "outputs": [],
   "source": [
    "\n",
    "for bucket in storage_client.list_buckets():\n",
    "    print(bucket)"
   ]
  },
  {
   "cell_type": "code",
   "execution_count": null,
   "metadata": {},
   "outputs": [],
   "source": [
    "#En este caso nuestro Bucket se llama \"ingreso_datos\"\n",
    "bucket_trabajo = storage_client.get_bucket('ingreso_datos')"
   ]
  },
  {
   "cell_type": "markdown",
   "metadata": {},
   "source": [
    "# Para abrir nuestros archivos usamos las siguientes funciones"
   ]
  },
  {
   "cell_type": "code",
   "execution_count": null,
   "metadata": {},
   "outputs": [],
   "source": [
    "\n",
    "blob=Blob.from_string('gs://salida_datos/Tabla_Original.csv')"
   ]
  },
  {
   "cell_type": "code",
   "execution_count": null,
   "metadata": {},
   "outputs": [],
   "source": [
    "#Nos lista los archivos en el bucket\n",
    "for blob in storage_client.list_blobs(bucket_trabajo):\n",
    "    print(blob)"
   ]
  },
  {
   "cell_type": "code",
   "execution_count": null,
   "metadata": {},
   "outputs": [],
   "source": [
    "#Descargamos dentro de la memoria de la maquina virtual el archivo que anteriormente estaba en nuestro bucket de google cloud storage.\n",
    "#\"TablaOriginal.csv\" es el nombre del archivo que necesitamos abrir\n",
    "with open('Tabla_Original.csv','wb') as file_obj:\n",
    "    storage_client.download_blob_to_file( blob, file_obj)"
   ]
  },
  {
   "cell_type": "code",
   "execution_count": null,
   "metadata": {},
   "outputs": [],
   "source": [
    "# Para dirigirnos a la ruta donde se encuentra el archivo\n",
    "# Damos nombre de bucket_trabajo al bucket \"ingreso_Datos\" que es el nomnre de nuestro bucket en google cloud storage\n",
    "bucket_trabajo = storage_client.get_bucket('ingreso_datos')\n",
    "bucket_trabajo2 = storage_client.get_bucket('salida_datos')"
   ]
  },
  {
   "cell_type": "markdown",
   "metadata": {},
   "source": [
    "# Para guardar nuestro archivos transformados en nuestra maquina virtual en google cloud storage"
   ]
  },
  {
   "cell_type": "code",
   "execution_count": null,
   "metadata": {},
   "outputs": [],
   "source": [
    "# Para almacenar en nuestro Google cloud Storage\n",
    "#Nombre por el cual esta guardado en la maquina virtual\n",
    "blob_save = bucket_trabajo.blob('Tabla_general.csv')\n",
    "#\"final.csv\" Es el nombre por el cual queremos que se guarde en Google cloud storage\n",
    "blob_save.upload_from_filename('Tabla_Original.csv')"
   ]
  }
 ],
 "metadata": {
  "language_info": {
   "name": "python"
  },
  "orig_nbformat": 4
 },
 "nbformat": 4,
 "nbformat_minor": 2
}
